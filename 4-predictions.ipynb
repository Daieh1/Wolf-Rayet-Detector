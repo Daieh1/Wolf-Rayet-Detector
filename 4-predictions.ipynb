{
 "cells": [
  {
   "cell_type": "code",
   "execution_count": 1,
   "id": "717caf77-5b04-43bb-b5a9-835b19646b47",
   "metadata": {
    "execution": {
     "iopub.execute_input": "2024-12-15T01:01:53.955339Z",
     "iopub.status.busy": "2024-12-15T01:01:53.955339Z",
     "iopub.status.idle": "2024-12-15T01:01:55.719682Z",
     "shell.execute_reply": "2024-12-15T01:01:55.718681Z",
     "shell.execute_reply.started": "2024-12-15T01:01:53.955339Z"
    }
   },
   "outputs": [],
   "source": [
    "import pandas as pd\n",
    "import matplotlib.pyplot as plt\n",
    "import seaborn as sns\n",
    "from joblib import load\n",
    "import os\n",
    "import glob"
   ]
  },
  {
   "cell_type": "markdown",
   "id": "d229f153",
   "metadata": {},
   "source": [
    "### In this Notebook, I make predictions on a sample of over 6 million non-Wolf-Rayet stars from the dataset obtained from Gaia, which has undergone a series of filters as previously discussed."
   ]
  },
  {
   "cell_type": "code",
   "execution_count": 2,
   "id": "44f0a840-7f36-43d0-b95c-c62b8e5eeaff",
   "metadata": {
    "execution": {
     "iopub.execute_input": "2024-12-15T01:01:55.722683Z",
     "iopub.status.busy": "2024-12-15T01:01:55.721683Z",
     "iopub.status.idle": "2024-12-15T01:01:56.231275Z",
     "shell.execute_reply": "2024-12-15T01:01:56.231275Z",
     "shell.execute_reply.started": "2024-12-15T01:01:55.722683Z"
    }
   },
   "outputs": [],
   "source": [
    "xg_enn = load('modelos/xg_enn_100.joblib')\n",
    "xg_tomek = load('modelos/xg_tomek_100.joblib')\n",
    "xg_smt = load('modelos/xg_smt_100.joblib')"
   ]
  },
  {
   "cell_type": "markdown",
   "id": "e2934f04-51b0-4784-ab9f-26ec0d9a58f9",
   "metadata": {},
   "source": [
    "rf_enn = load('modelos/rf_enn_100.joblib')\n",
    "rf_tomek = load('modelos/rf_tomek_100.joblib')\n",
    "rf_smt = load('modelos/rf_smt_100.joblib')\n",
    "muestra = pd.read_csv('archivos/Muestra final/muestra_completa_filtrada.csv')\n",
    "muestra_entrenamiento = pd.read_csv('Archivos/Muestra//muestra_combinada.csv')\n",
    "muestra_filtrada = muestra[~muestra['source_id'].isin(muestra_entrenamiento['source_id'])]"
   ]
  },
  {
   "cell_type": "code",
   "execution_count": 4,
   "id": "db66262d-03a9-4e57-8272-44bf03fa4dab",
   "metadata": {
    "execution": {
     "iopub.execute_input": "2024-12-15T01:02:04.849555Z",
     "iopub.status.busy": "2024-12-15T01:02:04.849555Z",
     "iopub.status.idle": "2024-12-15T01:02:13.239361Z",
     "shell.execute_reply": "2024-12-15T01:02:13.238359Z",
     "shell.execute_reply.started": "2024-12-15T01:02:04.849555Z"
    },
    "scrolled": true
   },
   "outputs": [
    {
     "name": "stdout",
     "output_type": "stream",
     "text": [
      "Procesando archivo: Archivos/Muestra4/parquet/filtrados\\processed_0_filtrado.parquet\n",
      "Procesando archivo: Archivos/Muestra4/parquet/filtrados\\processed_10_filtrado.parquet\n",
      "Procesando archivo: Archivos/Muestra4/parquet/filtrados\\processed_11_filtrado.parquet\n",
      "Procesando archivo: Archivos/Muestra4/parquet/filtrados\\processed_12_filtrado.parquet\n",
      "Procesando archivo: Archivos/Muestra4/parquet/filtrados\\processed_13_filtrado.parquet\n",
      "Procesando archivo: Archivos/Muestra4/parquet/filtrados\\processed_14_filtrado.parquet\n",
      "Procesando archivo: Archivos/Muestra4/parquet/filtrados\\processed_15_filtrado.parquet\n",
      "Procesando archivo: Archivos/Muestra4/parquet/filtrados\\processed_16_filtrado.parquet\n",
      "Procesando archivo: Archivos/Muestra4/parquet/filtrados\\processed_17_filtrado.parquet\n",
      "Procesando archivo: Archivos/Muestra4/parquet/filtrados\\processed_18_filtrado.parquet\n",
      "Procesando archivo: Archivos/Muestra4/parquet/filtrados\\processed_19_filtrado.parquet\n",
      "Procesando archivo: Archivos/Muestra4/parquet/filtrados\\processed_1_filtrado.parquet\n",
      "Procesando archivo: Archivos/Muestra4/parquet/filtrados\\processed_20_filtrado.parquet\n",
      "Procesando archivo: Archivos/Muestra4/parquet/filtrados\\processed_21_filtrado.parquet\n",
      "Procesando archivo: Archivos/Muestra4/parquet/filtrados\\processed_22_filtrado.parquet\n",
      "Procesando archivo: Archivos/Muestra4/parquet/filtrados\\processed_23_filtrado.parquet\n",
      "Procesando archivo: Archivos/Muestra4/parquet/filtrados\\processed_24_filtrado.parquet\n",
      "Procesando archivo: Archivos/Muestra4/parquet/filtrados\\processed_25_filtrado.parquet\n",
      "Procesando archivo: Archivos/Muestra4/parquet/filtrados\\processed_26_filtrado.parquet\n",
      "Procesando archivo: Archivos/Muestra4/parquet/filtrados\\processed_27_filtrado.parquet\n",
      "Procesando archivo: Archivos/Muestra4/parquet/filtrados\\processed_28_filtrado.parquet\n",
      "Procesando archivo: Archivos/Muestra4/parquet/filtrados\\processed_29_filtrado.parquet\n",
      "Procesando archivo: Archivos/Muestra4/parquet/filtrados\\processed_2_filtrado.parquet\n",
      "Procesando archivo: Archivos/Muestra4/parquet/filtrados\\processed_30_filtrado.parquet\n",
      "Procesando archivo: Archivos/Muestra4/parquet/filtrados\\processed_31_filtrado.parquet\n",
      "Procesando archivo: Archivos/Muestra4/parquet/filtrados\\processed_32_filtrado.parquet\n",
      "Procesando archivo: Archivos/Muestra4/parquet/filtrados\\processed_33_filtrado.parquet\n",
      "Procesando archivo: Archivos/Muestra4/parquet/filtrados\\processed_34_filtrado.parquet\n",
      "Procesando archivo: Archivos/Muestra4/parquet/filtrados\\processed_35_filtrado.parquet\n",
      "Procesando archivo: Archivos/Muestra4/parquet/filtrados\\processed_3_filtrado.parquet\n",
      "Procesando archivo: Archivos/Muestra4/parquet/filtrados\\processed_4_filtrado.parquet\n",
      "Procesando archivo: Archivos/Muestra4/parquet/filtrados\\processed_5_filtrado.parquet\n",
      "Procesando archivo: Archivos/Muestra4/parquet/filtrados\\processed_6_filtrado.parquet\n",
      "Procesando archivo: Archivos/Muestra4/parquet/filtrados\\processed_7_filtrado.parquet\n",
      "Procesando archivo: Archivos/Muestra4/parquet/filtrados\\processed_8_filtrado.parquet\n",
      "Procesando archivo: Archivos/Muestra4/parquet/filtrados\\processed_9_filtrado.parquet\n",
      "             source_id          ra        dec  parallax  Gaia_G-Gaia_Bp  \\\n",
      "0   431511550298172800    2.175510  63.009350  0.184859       -0.889339   \n",
      "1  2320576606760880640    1.079965 -30.659746  0.217267       -1.290010   \n",
      "2  3101602940525405184  104.797944  -4.916618  0.215374       -1.186275   \n",
      "3  2934572487022536192  107.161653 -17.630209  0.184941       -0.428891   \n",
      "4  3102242645833967488  101.882974  -4.716328  0.236040       -0.890338   \n",
      "\n",
      "   Gaia_G-Gaia_Rp  Gaia_Bp-Gaia_Rp  Jmag-Hmag  Jmag-Kmag  Hmag-Kmag  ...  \\\n",
      "0        0.937472         1.826812   0.682000   1.226000   0.544000  ...   \n",
      "1        1.119678         2.409689   1.434000   2.282000   0.848000  ...   \n",
      "2        1.092279         2.278554   0.712999   1.283999   0.571000  ...   \n",
      "3        0.638524         1.067415   0.639000   1.536000   0.897000  ...   \n",
      "4        0.961111         1.851449   0.478000   0.892000   0.414001  ...   \n",
      "\n",
      "     Gaia_Rp    Jmag    Hmag   Kmag     W1     W2  prob_enn  prob_tomek  \\\n",
      "0  11.637826  10.285   9.603  9.059  7.870  7.081  0.984196    0.984558   \n",
      "1  12.097998  10.514   9.080  8.232  7.035  6.584  0.989737    0.976238   \n",
      "2  12.527267  10.848  10.135  9.564  9.140  8.862  0.996642    0.981478   \n",
      "3  10.184497   9.404   8.765  7.868  6.442  5.657  0.934599    0.911607   \n",
      "4  11.438738   9.927   9.449  9.035  8.571  8.279  0.985113    0.737219   \n",
      "\n",
      "   prob_smt  ponderacion  \n",
      "0  0.989458     0.986071  \n",
      "1  0.909081     0.958352  \n",
      "2  0.977796     0.985305  \n",
      "3  0.935203     0.927136  \n",
      "4  0.763248     0.828527  \n",
      "\n",
      "[5 rows x 23 columns]\n",
      "Shape final: (289, 23)\n"
     ]
    }
   ],
   "source": [
    "\n",
    "\n",
    "columnas_modelo = [\n",
    "    'parallax', 'Gaia_G-Gaia_Bp', 'Gaia_G-Gaia_Rp', 'Gaia_Bp-Gaia_Rp',\n",
    "    'Jmag-Hmag', 'Jmag-Kmag', 'Hmag-Kmag', 'W1-W2',\n",
    "    'Gaia_G', 'Gaia_Bp', 'Gaia_Rp', 'Jmag', 'Hmag', 'Kmag', 'W1', 'W2'\n",
    "]\n",
    "columnas_extras = ['source_id', 'ra', 'dec']\n",
    "\n",
    "ruta = 'Archivos/Muestra4/parquet/filtrados'\n",
    "archivos = sorted(glob.glob(os.path.join(ruta, 'processed_*_filtrado.parquet')))\n",
    "\n",
    "def procesar_archivo(filepath):\n",
    "    df = pd.read_parquet(filepath, columns=columnas_extras + columnas_modelo)\n",
    "\n",
    "    # Calcular probabilidades\n",
    "    prob_enn = xg_enn.predict_proba(df[columnas_modelo])[:, 1]\n",
    "    prob_tomek = xg_tomek.predict_proba(df[columnas_modelo])[:, 1]\n",
    "    prob_smt = xg_smt.predict_proba(df[columnas_modelo])[:, 1]\n",
    "    ponderacion = (prob_enn + prob_tomek + prob_smt) / 3\n",
    "\n",
    "    df['prob_enn'] = prob_enn\n",
    "    df['prob_tomek'] = prob_tomek\n",
    "    df['prob_smt'] = prob_smt\n",
    "    df['ponderacion'] = ponderacion\n",
    "\n",
    "    df_filtrado = df[df['ponderacion'] >= 0.70]\n",
    "\n",
    "    df_ordenado = df_filtrado.sort_values(by='ponderacion', ascending=False)\n",
    "\n",
    "    return df_ordenado\n",
    "\n",
    "resultados_totales = []  \n",
    "\n",
    "for archivo in archivos:\n",
    "    print(f\"Procesando archivo: {archivo}\")\n",
    "    resultado_parcial = procesar_archivo(archivo)\n",
    "    resultados_totales.append(resultado_parcial)\n",
    "\n",
    "resultado_final = pd.concat(resultados_totales, ignore_index=True)\n",
    "\n",
    "output_path = 'archivos/candidatos1/predicciones.csv'\n",
    "resultado_final.to_csv(output_path, index=False)\n",
    "\n",
    "print(resultado_final.head())\n",
    "print(f\"Shape final: {resultado_final.shape}\")\n"
   ]
  },
  {
   "cell_type": "code",
   "execution_count": 5,
   "id": "b47e7530-fd19-4b18-acad-320acd2203e4",
   "metadata": {
    "execution": {
     "iopub.execute_input": "2024-12-15T01:02:13.240361Z",
     "iopub.status.busy": "2024-12-15T01:02:13.240361Z",
     "iopub.status.idle": "2024-12-15T01:02:13.438503Z",
     "shell.execute_reply": "2024-12-15T01:02:13.438503Z",
     "shell.execute_reply.started": "2024-12-15T01:02:13.240361Z"
    }
   },
   "outputs": [
    {
     "name": "stdout",
     "output_type": "stream",
     "text": [
      "Shape final: (289, 23)\n"
     ]
    },
    {
     "name": "stderr",
     "output_type": "stream",
     "text": [
      "C:\\Users\\diego\\AppData\\Local\\Temp\\ipykernel_5352\\816653882.py:2: DtypeWarning: Columns (5,6,7,8,9,10,11,12,15,16,17,18,30,31,32,34,37,38,39,40,41,42,43,47,215,232,261,262,265,266,267,268,269,271,272,273,274,275,276,277,279,280,281,282,283,286,290,294,297,301,304,315,317,322,324) have mixed types. Specify dtype option on import or set low_memory=False.\n",
      "  muestra_entrenamiento = pd.read_csv('Archivos/Muestra//muestra_combinada.csv')\n"
     ]
    },
    {
     "data": {
      "text/plain": [
       "(219, 23)"
      ]
     },
     "execution_count": 5,
     "metadata": {},
     "output_type": "execute_result"
    }
   ],
   "source": [
    "print(f\"Shape final: {resultado_final.shape}\")\n",
    "muestra_entrenamiento = pd.read_csv('Archivos/Muestra//muestra_combinada.csv')\n",
    "muestra_filtrada = resultado_final[~resultado_final['source_id'].isin(muestra_entrenamiento['source_id'])]\n",
    "muestra_filtrada.shape"
   ]
  },
  {
   "cell_type": "markdown",
   "id": "69787934",
   "metadata": {},
   "source": [
    "### 219 candidates, which is consistent with the rarity of Wolf-Rayet stars."
   ]
  },
  {
   "cell_type": "code",
   "execution_count": 6,
   "id": "087e1c53-a1dc-43e2-acff-79188ab56648",
   "metadata": {
    "execution": {
     "iopub.execute_input": "2024-12-15T01:02:13.439504Z",
     "iopub.status.busy": "2024-12-15T01:02:13.439504Z",
     "iopub.status.idle": "2024-12-15T01:02:13.455504Z",
     "shell.execute_reply": "2024-12-15T01:02:13.454506Z",
     "shell.execute_reply.started": "2024-12-15T01:02:13.439504Z"
    }
   },
   "outputs": [],
   "source": [
    "muestra_filtrada.to_csv('archivos/candidatos1/predicciones_sin_fp.csv', index=False)"
   ]
  }
 ],
 "metadata": {
  "kernelspec": {
   "display_name": "Python 3 (ipykernel)",
   "language": "python",
   "name": "python3"
  },
  "language_info": {
   "codemirror_mode": {
    "name": "ipython",
    "version": 3
   },
   "file_extension": ".py",
   "mimetype": "text/x-python",
   "name": "python",
   "nbconvert_exporter": "python",
   "pygments_lexer": "ipython3",
   "version": "3.8.18"
  }
 },
 "nbformat": 4,
 "nbformat_minor": 5
}

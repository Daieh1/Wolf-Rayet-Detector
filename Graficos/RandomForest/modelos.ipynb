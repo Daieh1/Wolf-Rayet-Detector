{
 "cells": [
  {
   "cell_type": "code",
   "execution_count": 121,
   "id": "9a34fb98-4734-4381-b8e7-659f2c9e170f",
   "metadata": {},
   "outputs": [],
   "source": [
    "import pandas as pd\n",
    "import numpy as np\n",
    "import matplotlib.pyplot as plt\n",
    "import seaborn as sns\n",
    "from sklearn.metrics import confusion_matrix, roc_curve, auc\n",
    "from joblib import dump"
   ]
  },
  {
   "cell_type": "code",
   "execution_count": 25,
   "id": "8d0a9def-332b-4d52-8061-e0605a20ff7f",
   "metadata": {},
   "outputs": [
    {
     "data": {
      "text/plain": [
       "(2000, 219)"
      ]
     },
     "execution_count": 25,
     "metadata": {},
     "output_type": "execute_result"
    }
   ],
   "source": [
    "wolf_rayet = pd.read_csv('archivos/datos finales/catalogo_wr.csv')\n",
    "muestra_aleatoria = pd.read_csv('archivos/datos finales/muestra_representativa.csv')\n",
    "muestra_aleatoria.shape"
   ]
  },
  {
   "cell_type": "code",
   "execution_count": 26,
   "id": "9de94047-58be-458a-bb30-aeed8bdc9b65",
   "metadata": {},
   "outputs": [
    {
     "name": "stdout",
     "output_type": "stream",
     "text": [
      "Wolf rayet: (333, 36)\n",
      "['Unnamed: 0', 'coord_index', 'ID', 'WR#', 'RA_deg', 'Dec_deg', 'G', 'query_ra', 'query_dec', 'source_id', 'designation', 'ra', 'dec', 'GAIA_G', 'GAIA_BP', 'GAIA_RP', 'parallax', 'parallax_error', 'distance_deg', 'J', 'H', 'K', 'Distance (kpc)', 'Galactic Longitude (deg)', 'Galactic Latitude (deg)', 'pmra', 'pmdec', 'pmra_error', 'pmdec_error', 'pm', 'GAIA_G-GAIA_BP', 'GAIA_G-GAIA_RP', 'GAIA_BP-GAIA_RP', 'J-H', 'J-K', 'H-K']\n",
      "Muestra aleatoria: (2000, 219)\n",
      "['Unnamed: 0', 'source_id', 'solution_id', 'designation', 'source_id.1', 'random_index', 'ref_epoch', 'ra', 'ra_error', 'dec', 'dec_error', 'parallax', 'parallax_error', 'parallax_over_error', 'pm', 'pmra', 'pmra_error', 'pmdec', 'pmdec_error', 'ra_dec_corr', 'ra_parallax_corr', 'ra_pmra_corr', 'ra_pmdec_corr', 'dec_parallax_corr', 'dec_pmra_corr', 'dec_pmdec_corr', 'parallax_pmra_corr', 'parallax_pmdec_corr', 'pmra_pmdec_corr', 'astrometric_n_obs_al', 'astrometric_n_obs_ac', 'astrometric_n_good_obs_al', 'astrometric_n_bad_obs_al', 'astrometric_gof_al', 'astrometric_chi2_al', 'astrometric_excess_noise', 'astrometric_excess_noise_sig', 'astrometric_params_solved', 'astrometric_primary_flag', 'nu_eff_used_in_astrometry', 'pseudocolour', 'pseudocolour_error', 'ra_pseudocolour_corr', 'dec_pseudocolour_corr', 'parallax_pseudocolour_corr', 'pmra_pseudocolour_corr', 'pmdec_pseudocolour_corr', 'astrometric_matched_transits', 'visibility_periods_used', 'astrometric_sigma5d_max', 'matched_transits', 'new_matched_transits', 'matched_transits_removed', 'ipd_gof_harmonic_amplitude', 'ipd_gof_harmonic_phase', 'ipd_frac_multi_peak', 'ipd_frac_odd_win', 'ruwe', 'scan_direction_strength_k1', 'scan_direction_strength_k2', 'scan_direction_strength_k3', 'scan_direction_strength_k4', 'scan_direction_mean_k1', 'scan_direction_mean_k2', 'scan_direction_mean_k3', 'scan_direction_mean_k4', 'duplicated_source', 'phot_g_n_obs', 'phot_g_mean_flux', 'phot_g_mean_flux_error', 'phot_g_mean_flux_over_error', 'GAIA_G', 'phot_bp_n_obs', 'phot_bp_mean_flux', 'phot_bp_mean_flux_error', 'phot_bp_mean_flux_over_error', 'GAIA_BP', 'phot_rp_n_obs', 'phot_rp_mean_flux', 'phot_rp_mean_flux_error', 'phot_rp_mean_flux_over_error', 'GAIA_RP', 'phot_bp_rp_excess_factor', 'phot_bp_n_contaminated_transits', 'phot_bp_n_blended_transits', 'phot_rp_n_contaminated_transits', 'phot_rp_n_blended_transits', 'phot_proc_mode', 'bp_rp', 'bp_g', 'g_rp', 'radial_velocity', 'radial_velocity_error', 'rv_method_used', 'rv_nb_transits', 'rv_nb_deblended_transits', 'rv_visibility_periods_used', 'rv_expected_sig_to_noise', 'rv_renormalised_gof', 'rv_chisq_pvalue', 'rv_time_duration', 'rv_amplitude_robust', 'rv_template_teff', 'rv_template_logg', 'rv_template_fe_h', 'rv_atm_param_origin', 'vbroad', 'vbroad_error', 'vbroad_nb_transits', 'grvs_mag', 'grvs_mag_error', 'grvs_mag_nb_transits', 'rvs_spec_sig_to_noise', 'phot_variable_flag', 'l', 'b', 'ecl_lon', 'ecl_lat', 'in_qso_candidates', 'in_galaxy_candidates', 'non_single_star', 'has_xp_continuous', 'has_xp_sampled', 'has_rvs', 'has_epoch_photometry', 'has_epoch_rv', 'has_mcmc_gspphot', 'has_mcmc_msc', 'in_andromeda_survey', 'classprob_dsc_combmod_quasar', 'classprob_dsc_combmod_galaxy', 'classprob_dsc_combmod_star', 'teff_gspphot', 'teff_gspphot_lower', 'teff_gspphot_upper', 'logg_gspphot', 'logg_gspphot_lower', 'logg_gspphot_upper', 'mh_gspphot', 'mh_gspphot_lower', 'mh_gspphot_upper', 'distance_gspphot', 'distance_gspphot_lower', 'distance_gspphot_upper', 'azero_gspphot', 'azero_gspphot_lower', 'azero_gspphot_upper', 'ag_gspphot', 'ag_gspphot_lower', 'ag_gspphot_upper', 'ebpminrp_gspphot', 'ebpminrp_gspphot_lower', 'ebpminrp_gspphot_upper', 'libname_gspphot', 'ph_qual', 'tmass_oid', 'designation.1', 'ra.1', 'dec.1', 'err_maj', 'err_min', 'err_ang', 'J', 'j_msigcom', 'H', 'h_msigcom', 'K', 'ks_msigcom', 'ext_key', 'j_date', 'main_id', 'ra_x', 'dec_x', 'coo_err_maj', 'coo_err_min', 'coo_err_angle', 'otype', 'nbref', 'ra_sexa', 'dec_sexa', 'coo_qual', 'coo_bibcode', 'main_type', 'other_types', 'radvel', 'radvel_err', 'redshift', 'redshift_err', 'sp_type', 'morph_type', 'plx', 'plx_err', 'pmra_x', 'pmdec_x', 'pm_err_maj', 'pm_err_min', 'pm_err_pa', 'size_maj', 'size_min', 'size_angle', 'B_x', 'V', 'R_x', 'J_x', 'H_x', 'K_x', 'u', 'g', 'r_xa', 'i', 'z', 'angDist', 'GAIA_G-GAIA_BP', 'GAIA_G-GAIA_RP', 'GAIA_BP-GAIA_RP', 'J-H', 'J-K', 'H-K', 'cluster']\n"
     ]
    }
   ],
   "source": [
    "print(\"Wolf rayet:\", wolf_rayet.shape)\n",
    "print(list(wolf_rayet.columns))\n",
    "print(\"Muestra aleatoria:\", muestra_aleatoria.shape)\n",
    "print(list(muestra_aleatoria.columns))"
   ]
  },
  {
   "cell_type": "code",
   "execution_count": 38,
   "id": "489e3aa2-5526-49b9-ad92-4b05874b2ab5",
   "metadata": {},
   "outputs": [],
   "source": [
    "# Asignare clases a las muestras\n",
    "wolf_rayet['class'] = 1\n",
    "muestra_aleatoria['class'] = 0"
   ]
  },
  {
   "cell_type": "code",
   "execution_count": 39,
   "id": "e70351dc-9537-494b-80f7-7a7461037951",
   "metadata": {},
   "outputs": [
    {
     "name": "stdout",
     "output_type": "stream",
     "text": [
      "(2333, 232)\n",
      "['Unnamed: 0', 'coord_index', 'ID', 'WR#', 'RA_deg', 'Dec_deg', 'G', 'query_ra', 'query_dec', 'source_id', 'designation', 'ra', 'dec', 'GAIA_G', 'GAIA_BP', 'GAIA_RP', 'parallax', 'parallax_error', 'distance_deg', 'J', 'H', 'K', 'Distance (kpc)', 'Galactic Longitude (deg)', 'Galactic Latitude (deg)', 'pmra', 'pmdec', 'pmra_error', 'pmdec_error', 'pm', 'GAIA_G-GAIA_BP', 'GAIA_G-GAIA_RP', 'GAIA_BP-GAIA_RP', 'J-H', 'J-K', 'H-K', 'class', 'solution_id', 'source_id.1', 'random_index', 'ref_epoch', 'ra_error', 'dec_error', 'parallax_over_error', 'ra_dec_corr', 'ra_parallax_corr', 'ra_pmra_corr', 'ra_pmdec_corr', 'dec_parallax_corr', 'dec_pmra_corr', 'dec_pmdec_corr', 'parallax_pmra_corr', 'parallax_pmdec_corr', 'pmra_pmdec_corr', 'astrometric_n_obs_al', 'astrometric_n_obs_ac', 'astrometric_n_good_obs_al', 'astrometric_n_bad_obs_al', 'astrometric_gof_al', 'astrometric_chi2_al', 'astrometric_excess_noise', 'astrometric_excess_noise_sig', 'astrometric_params_solved', 'astrometric_primary_flag', 'nu_eff_used_in_astrometry', 'pseudocolour', 'pseudocolour_error', 'ra_pseudocolour_corr', 'dec_pseudocolour_corr', 'parallax_pseudocolour_corr', 'pmra_pseudocolour_corr', 'pmdec_pseudocolour_corr', 'astrometric_matched_transits', 'visibility_periods_used', 'astrometric_sigma5d_max', 'matched_transits', 'new_matched_transits', 'matched_transits_removed', 'ipd_gof_harmonic_amplitude', 'ipd_gof_harmonic_phase', 'ipd_frac_multi_peak', 'ipd_frac_odd_win', 'ruwe', 'scan_direction_strength_k1', 'scan_direction_strength_k2', 'scan_direction_strength_k3', 'scan_direction_strength_k4', 'scan_direction_mean_k1', 'scan_direction_mean_k2', 'scan_direction_mean_k3', 'scan_direction_mean_k4', 'duplicated_source', 'phot_g_n_obs', 'phot_g_mean_flux', 'phot_g_mean_flux_error', 'phot_g_mean_flux_over_error', 'phot_bp_n_obs', 'phot_bp_mean_flux', 'phot_bp_mean_flux_error', 'phot_bp_mean_flux_over_error', 'phot_rp_n_obs', 'phot_rp_mean_flux', 'phot_rp_mean_flux_error', 'phot_rp_mean_flux_over_error', 'phot_bp_rp_excess_factor', 'phot_bp_n_contaminated_transits', 'phot_bp_n_blended_transits', 'phot_rp_n_contaminated_transits', 'phot_rp_n_blended_transits', 'phot_proc_mode', 'bp_rp', 'bp_g', 'g_rp', 'radial_velocity', 'radial_velocity_error', 'rv_method_used', 'rv_nb_transits', 'rv_nb_deblended_transits', 'rv_visibility_periods_used', 'rv_expected_sig_to_noise', 'rv_renormalised_gof', 'rv_chisq_pvalue', 'rv_time_duration', 'rv_amplitude_robust', 'rv_template_teff', 'rv_template_logg', 'rv_template_fe_h', 'rv_atm_param_origin', 'vbroad', 'vbroad_error', 'vbroad_nb_transits', 'grvs_mag', 'grvs_mag_error', 'grvs_mag_nb_transits', 'rvs_spec_sig_to_noise', 'phot_variable_flag', 'l', 'b', 'ecl_lon', 'ecl_lat', 'in_qso_candidates', 'in_galaxy_candidates', 'non_single_star', 'has_xp_continuous', 'has_xp_sampled', 'has_rvs', 'has_epoch_photometry', 'has_epoch_rv', 'has_mcmc_gspphot', 'has_mcmc_msc', 'in_andromeda_survey', 'classprob_dsc_combmod_quasar', 'classprob_dsc_combmod_galaxy', 'classprob_dsc_combmod_star', 'teff_gspphot', 'teff_gspphot_lower', 'teff_gspphot_upper', 'logg_gspphot', 'logg_gspphot_lower', 'logg_gspphot_upper', 'mh_gspphot', 'mh_gspphot_lower', 'mh_gspphot_upper', 'distance_gspphot', 'distance_gspphot_lower', 'distance_gspphot_upper', 'azero_gspphot', 'azero_gspphot_lower', 'azero_gspphot_upper', 'ag_gspphot', 'ag_gspphot_lower', 'ag_gspphot_upper', 'ebpminrp_gspphot', 'ebpminrp_gspphot_lower', 'ebpminrp_gspphot_upper', 'libname_gspphot', 'ph_qual', 'tmass_oid', 'designation.1', 'ra.1', 'dec.1', 'err_maj', 'err_min', 'err_ang', 'j_msigcom', 'h_msigcom', 'ks_msigcom', 'ext_key', 'j_date', 'main_id', 'ra_x', 'dec_x', 'coo_err_maj', 'coo_err_min', 'coo_err_angle', 'otype', 'nbref', 'ra_sexa', 'dec_sexa', 'coo_qual', 'coo_bibcode', 'main_type', 'other_types', 'radvel', 'radvel_err', 'redshift', 'redshift_err', 'sp_type', 'morph_type', 'plx', 'plx_err', 'pmra_x', 'pmdec_x', 'pm_err_maj', 'pm_err_min', 'pm_err_pa', 'size_maj', 'size_min', 'size_angle', 'B_x', 'V', 'R_x', 'J_x', 'H_x', 'K_x', 'u', 'g', 'r_xa', 'i', 'z', 'angDist', 'cluster']\n"
     ]
    }
   ],
   "source": [
    "combined_df = pd.concat([wolf_rayet, muestra_aleatoria], ignore_index=True)\n",
    "print(combined_df.shape)\n",
    "print(list(combined_df.columns))"
   ]
  },
  {
   "cell_type": "code",
   "execution_count": 40,
   "id": "ec63cbd2-0350-4dd0-8064-76176e3c76b1",
   "metadata": {},
   "outputs": [],
   "source": [
    "combined_df.to_csv('archivos/datos finales/muestra_combinada.csv')"
   ]
  },
  {
   "cell_type": "markdown",
   "id": "bf29ab50-1c5d-45a3-b779-ec0d65f86252",
   "metadata": {},
   "source": [
    "# Oversampling\n",
    "### Utilizaré modelos de SMOTE-ENN y SMOTE-TOMEK porque leí que limpian parámetros de la frontera en las clases mayoritarias, lo cual creo que puede ser útil debido a que en muchos gráficos color-color las fronteras no están realmente tan claras. "
   ]
  },
  {
   "cell_type": "code",
   "execution_count": 41,
   "id": "b10b09ff-8a93-42b8-9aa7-c37799f41f33",
   "metadata": {},
   "outputs": [],
   "source": [
    "from sklearn.model_selection import train_test_split"
   ]
  },
  {
   "cell_type": "code",
   "execution_count": 42,
   "id": "54773911-0d96-4cee-8c74-592d8769b434",
   "metadata": {},
   "outputs": [
    {
     "name": "stdout",
     "output_type": "stream",
     "text": [
      "['Unnamed: 0.1', 'Unnamed: 0', 'coord_index', 'ID', 'WR#', 'RA_deg', 'Dec_deg', 'G', 'query_ra', 'query_dec', 'source_id', 'designation', 'ra', 'dec', 'GAIA_G', 'GAIA_BP', 'GAIA_RP', 'parallax', 'parallax_error', 'distance_deg', 'J', 'H', 'K', 'Distance (kpc)', 'Galactic Longitude (deg)', 'Galactic Latitude (deg)', 'pmra', 'pmdec', 'pmra_error', 'pmdec_error', 'pm', 'GAIA_G-GAIA_BP', 'GAIA_G-GAIA_RP', 'GAIA_BP-GAIA_RP', 'J-H', 'J-K', 'H-K', 'class', 'solution_id', 'source_id.1', 'random_index', 'ref_epoch', 'ra_error', 'dec_error', 'parallax_over_error', 'ra_dec_corr', 'ra_parallax_corr', 'ra_pmra_corr', 'ra_pmdec_corr', 'dec_parallax_corr', 'dec_pmra_corr', 'dec_pmdec_corr', 'parallax_pmra_corr', 'parallax_pmdec_corr', 'pmra_pmdec_corr', 'astrometric_n_obs_al', 'astrometric_n_obs_ac', 'astrometric_n_good_obs_al', 'astrometric_n_bad_obs_al', 'astrometric_gof_al', 'astrometric_chi2_al', 'astrometric_excess_noise', 'astrometric_excess_noise_sig', 'astrometric_params_solved', 'astrometric_primary_flag', 'nu_eff_used_in_astrometry', 'pseudocolour', 'pseudocolour_error', 'ra_pseudocolour_corr', 'dec_pseudocolour_corr', 'parallax_pseudocolour_corr', 'pmra_pseudocolour_corr', 'pmdec_pseudocolour_corr', 'astrometric_matched_transits', 'visibility_periods_used', 'astrometric_sigma5d_max', 'matched_transits', 'new_matched_transits', 'matched_transits_removed', 'ipd_gof_harmonic_amplitude', 'ipd_gof_harmonic_phase', 'ipd_frac_multi_peak', 'ipd_frac_odd_win', 'ruwe', 'scan_direction_strength_k1', 'scan_direction_strength_k2', 'scan_direction_strength_k3', 'scan_direction_strength_k4', 'scan_direction_mean_k1', 'scan_direction_mean_k2', 'scan_direction_mean_k3', 'scan_direction_mean_k4', 'duplicated_source', 'phot_g_n_obs', 'phot_g_mean_flux', 'phot_g_mean_flux_error', 'phot_g_mean_flux_over_error', 'phot_bp_n_obs', 'phot_bp_mean_flux', 'phot_bp_mean_flux_error', 'phot_bp_mean_flux_over_error', 'phot_rp_n_obs', 'phot_rp_mean_flux', 'phot_rp_mean_flux_error', 'phot_rp_mean_flux_over_error', 'phot_bp_rp_excess_factor', 'phot_bp_n_contaminated_transits', 'phot_bp_n_blended_transits', 'phot_rp_n_contaminated_transits', 'phot_rp_n_blended_transits', 'phot_proc_mode', 'bp_rp', 'bp_g', 'g_rp', 'radial_velocity', 'radial_velocity_error', 'rv_method_used', 'rv_nb_transits', 'rv_nb_deblended_transits', 'rv_visibility_periods_used', 'rv_expected_sig_to_noise', 'rv_renormalised_gof', 'rv_chisq_pvalue', 'rv_time_duration', 'rv_amplitude_robust', 'rv_template_teff', 'rv_template_logg', 'rv_template_fe_h', 'rv_atm_param_origin', 'vbroad', 'vbroad_error', 'vbroad_nb_transits', 'grvs_mag', 'grvs_mag_error', 'grvs_mag_nb_transits', 'rvs_spec_sig_to_noise', 'phot_variable_flag', 'l', 'b', 'ecl_lon', 'ecl_lat', 'in_qso_candidates', 'in_galaxy_candidates', 'non_single_star', 'has_xp_continuous', 'has_xp_sampled', 'has_rvs', 'has_epoch_photometry', 'has_epoch_rv', 'has_mcmc_gspphot', 'has_mcmc_msc', 'in_andromeda_survey', 'classprob_dsc_combmod_quasar', 'classprob_dsc_combmod_galaxy', 'classprob_dsc_combmod_star', 'teff_gspphot', 'teff_gspphot_lower', 'teff_gspphot_upper', 'logg_gspphot', 'logg_gspphot_lower', 'logg_gspphot_upper', 'mh_gspphot', 'mh_gspphot_lower', 'mh_gspphot_upper', 'distance_gspphot', 'distance_gspphot_lower', 'distance_gspphot_upper', 'azero_gspphot', 'azero_gspphot_lower', 'azero_gspphot_upper', 'ag_gspphot', 'ag_gspphot_lower', 'ag_gspphot_upper', 'ebpminrp_gspphot', 'ebpminrp_gspphot_lower', 'ebpminrp_gspphot_upper', 'libname_gspphot', 'ph_qual', 'tmass_oid', 'designation.1', 'ra.1', 'dec.1', 'err_maj', 'err_min', 'err_ang', 'j_msigcom', 'h_msigcom', 'ks_msigcom', 'ext_key', 'j_date', 'main_id', 'ra_x', 'dec_x', 'coo_err_maj', 'coo_err_min', 'coo_err_angle', 'otype', 'nbref', 'ra_sexa', 'dec_sexa', 'coo_qual', 'coo_bibcode', 'main_type', 'other_types', 'radvel', 'radvel_err', 'redshift', 'redshift_err', 'sp_type', 'morph_type', 'plx', 'plx_err', 'pmra_x', 'pmdec_x', 'pm_err_maj', 'pm_err_min', 'pm_err_pa', 'size_maj', 'size_min', 'size_angle', 'B_x', 'V', 'R_x', 'J_x', 'H_x', 'K_x', 'u', 'g', 'r_xa', 'i', 'z', 'angDist', 'cluster']\n"
     ]
    }
   ],
   "source": [
    "df = pd.read_csv('archivos/datos finales/muestra_combinada.csv')\n",
    "print(list(df.columns))"
   ]
  },
  {
   "cell_type": "code",
   "execution_count": 49,
   "id": "3900a665-4b2d-4bde-9bec-d3c8786feb1f",
   "metadata": {},
   "outputs": [],
   "source": [
    "X = df[['parallax', 'GAIA_G-GAIA_BP', 'GAIA_G-GAIA_RP', 'GAIA_BP-GAIA_RP', 'J-H', 'J-K', 'H-K']] \n",
    "y = df['class']  \n",
    "X_train, X_test, y_train, y_test = train_test_split(X, y, test_size=0.2, stratify=y, random_state=42)"
   ]
  },
  {
   "cell_type": "markdown",
   "id": "35dd6ce0-b417-4fe5-92ab-bb67434f4d14",
   "metadata": {},
   "source": [
    "## SMOTE-ENN"
   ]
  },
  {
   "cell_type": "code",
   "execution_count": 88,
   "id": "758d1055-4357-4a81-83f6-24e701cb3240",
   "metadata": {},
   "outputs": [],
   "source": [
    "from imblearn.combine import SMOTEENN, SMOTETomek\n",
    "from imblearn.over_sampling import SMOTE\n",
    "from xgboost import XGBClassifier\n",
    "from sklearn.metrics import accuracy_score, classification_report"
   ]
  },
  {
   "cell_type": "code",
   "execution_count": 112,
   "id": "7cc4930c-f19d-4fe8-a78d-404e5c2c60d2",
   "metadata": {},
   "outputs": [
    {
     "name": "stdout",
     "output_type": "stream",
     "text": [
      "(3092, 7) (3092,)\n",
      "Antes de SMOTE_enn: class\n",
      "0    1600\n",
      "1     266\n",
      "Name: count, dtype: int64\n",
      "Después de SMOTE_enn: class\n",
      "1    1569\n",
      "0    1523\n",
      "Name: count, dtype: int64\n"
     ]
    }
   ],
   "source": [
    "smote_enn = SMOTEENN(random_state=42)\n",
    "X_resampled_enn, y_resampled_enn = smote_enn.fit_resample(X_train, y_train)\n",
    "\n",
    "print(X_resampled_enn.shape, y_resampled_enn.shape)\n",
    "print(f\"Antes de SMOTE_enn: {y_train.value_counts()}\")\n",
    "print(f\"Después de SMOTE_enn: {y_resampled_enn.value_counts()}\")"
   ]
  },
  {
   "cell_type": "code",
   "execution_count": 122,
   "id": "3e1a6550-eed7-48c7-ae0a-a0b4837bc233",
   "metadata": {},
   "outputs": [
    {
     "name": "stdout",
     "output_type": "stream",
     "text": [
      "Resultados usando SMOTE-ENN:\n",
      "Accuracy: 0.9635974304068522\n",
      "              precision    recall  f1-score   support\n",
      "\n",
      "           0       0.99      0.97      0.98       400\n",
      "           1       0.83      0.94      0.88        67\n",
      "\n",
      "    accuracy                           0.96       467\n",
      "   macro avg       0.91      0.95      0.93       467\n",
      "weighted avg       0.97      0.96      0.96       467\n",
      "\n"
     ]
    },
    {
     "data": {
      "text/plain": [
       "['modelos/xg_enn_100.joblib']"
      ]
     },
     "execution_count": 122,
     "metadata": {},
     "output_type": "execute_result"
    }
   ],
   "source": [
    "n_estimators = 100\n",
    "model_enn = XGBClassifier(eval_metric='mlogloss', learning_rate='0.1', objective='binary:logistic', n_estimators=n_estimators, random_state=42)\n",
    "model_enn.fit(X_resampled_enn, y_resampled_enn)\n",
    "\n",
    "y_pred_enn = model_enn.predict(X_test)\n",
    "\n",
    "print(\"Resultados usando SMOTE-ENN:\")\n",
    "print(f\"Accuracy: {accuracy_score(y_test, y_pred_enn)}\")\n",
    "print(classification_report(y_test, y_pred_enn))\n",
    "\n",
    "with open(f'graficos/XGBOOST/SMOTE_ENN/reporte_enn_{n_estimators}_estimators.txt', 'w') as f:\n",
    "    f.write(\"Resultados usando SMOTE-ENN:\\n\")\n",
    "    f.write(f\"Accuracy: {accuracy_score(y_test, y_pred_enn)}\\n\")\n",
    "    f.write(\"\\nReporte de clasificacion:\\n\")\n",
    "    f.write(classification_report(y_test, y_pred_enn))\n",
    "\n",
    "dump(model_enn, f'modelos/xg_enn_{n_estimators}.joblib')"
   ]
  },
  {
   "cell_type": "code",
   "execution_count": 91,
   "id": "cb402543-f971-4581-bfb7-91e9115b4ad3",
   "metadata": {},
   "outputs": [
    {
     "name": "stdout",
     "output_type": "stream",
     "text": [
      "Matriz de Confusión:\n",
      "[[387  13]\n",
      " [  4  63]]\n"
     ]
    }
   ],
   "source": [
    "cm = confusion_matrix(y_test, y_pred_enn)\n",
    "print(\"Matriz de Confusión:\")\n",
    "print(cm)\n",
    "\n",
    "# Graficar la matriz de confusión\n",
    "plt.figure(figsize=(8,6))\n",
    "sns.heatmap(cm, annot=True, fmt='d', cmap='Blues')\n",
    "plt.title('Matriz de Confusión - SMOTE-ENN')\n",
    "plt.ylabel('Etiqueta Verdadera')\n",
    "plt.xlabel('Etiqueta Predicha')\n",
    "plt.savefig(f'graficos/XGBOOST/SMOTE_ENN/matriz_confusion_enn_{n_estimators}_estimators.png')\n",
    "plt.close()"
   ]
  },
  {
   "cell_type": "code",
   "execution_count": 103,
   "id": "613841fa-e48a-46d7-81f3-8560ea413cf7",
   "metadata": {},
   "outputs": [],
   "source": [
    "y_pred_proba = model_enn.predict_proba(X_test)[::,1]\n",
    "fpr, tpr, _ = roc_curve(y_test, y_pred_proba)\n",
    "roc_auc = auc(fpr, tpr)\n",
    "\n",
    "# Graficar la curva ROC\n",
    "plt.figure(figsize=(8,6))\n",
    "plt.plot(fpr, tpr, label=f'Curva ROC (área = {roc_auc:.2f})')\n",
    "plt.plot([0, 1], [0, 1],'r--', label='Clasificación aleatoria')\n",
    "plt.xlim([-0.01, 1.01])\n",
    "plt.ylim([-0.01, 1.01])\n",
    "plt.xlabel('Tasa de Falsos Positivos')\n",
    "plt.ylabel('Tasa de Verdaderos Positivos')\n",
    "plt.title('Curva ROC - SMOTE-ENN')\n",
    "plt.legend(loc=\"lower right\")\n",
    "plt.savefig(f'graficos/XGBOOST/SMOTE_ENN/roc_curve_enn_{n_estimators}_estimators.png')\n",
    "plt.close()"
   ]
  },
  {
   "cell_type": "code",
   "execution_count": 106,
   "id": "bd2b65bd-15a4-41d2-80ac-4fdc09d72ae8",
   "metadata": {},
   "outputs": [
    {
     "name": "stdout",
     "output_type": "stream",
     "text": [
      "Características más importantes para la clasificación:\n",
      "    Característica  Importancia\n",
      "6              H-K     0.592830\n",
      "4              J-H     0.184867\n",
      "1   GAIA_G-GAIA_BP     0.106621\n",
      "2   GAIA_G-GAIA_RP     0.036377\n",
      "0         parallax     0.034914\n",
      "5              J-K     0.031575\n",
      "3  GAIA_BP-GAIA_RP     0.012817\n"
     ]
    }
   ],
   "source": [
    "importances = model_enn.feature_importances_\n",
    "feature_importance_df = pd.DataFrame({\n",
    "    'Característica': X_train.columns,\n",
    "    'Importancia': importances\n",
    "})\n",
    "feature_importance_df = feature_importance_df.sort_values(by='Importancia', ascending=False)\n",
    "print(\"Características más importantes para la clasificación:\")\n",
    "print(feature_importance_df.head(10))\n",
    "\n",
    "plt.figure(figsize=(10,8))\n",
    "plt.barh(feature_importance_df['Característica'], feature_importance_df['Importancia'])\n",
    "plt.gca().invert_yaxis() \n",
    "plt.xlabel('Importancia')\n",
    "plt.title('Importancia de las Características - SMOTE-ENN')\n",
    "plt.tight_layout()\n",
    "plt.savefig(f'graficos/XGBOOST/SMOTE_ENN/feature_importances_enn_{n_estimators}_estimators.png')\n",
    "plt.close()"
   ]
  },
  {
   "cell_type": "markdown",
   "id": "08d9f4b0-64ca-4f5d-8ba0-bd5bfff12949",
   "metadata": {},
   "source": [
    "### SMOTE-ENN Random forest"
   ]
  },
  {
   "cell_type": "code",
   "execution_count": 111,
   "id": "001c41ac-bfb7-4c91-8aaa-1e51b7714f37",
   "metadata": {},
   "outputs": [],
   "source": [
    "from sklearn.ensemble import RandomForestClassifier\n",
    "from sklearn.metrics import accuracy_score, classification_report"
   ]
  },
  {
   "cell_type": "code",
   "execution_count": 123,
   "id": "d27865f0-bd45-4b66-8867-da158829e1e7",
   "metadata": {},
   "outputs": [
    {
     "name": "stdout",
     "output_type": "stream",
     "text": [
      "Resultados usando Random Forest con SMOTE-ENN:\n",
      "Accuracy: 0.9593147751605996\n",
      "              precision    recall  f1-score   support\n",
      "\n",
      "           0       0.99      0.96      0.98       400\n",
      "           1       0.81      0.94      0.87        67\n",
      "\n",
      "    accuracy                           0.96       467\n",
      "   macro avg       0.90      0.95      0.92       467\n",
      "weighted avg       0.96      0.96      0.96       467\n",
      "\n",
      "Matriz de Confusión:\n",
      "[[385  15]\n",
      " [  4  63]]\n",
      "Características más importantes para la clasificación con Random Forest:\n",
      "    Característica  Importancia\n",
      "6              H-K     0.490703\n",
      "0         parallax     0.126234\n",
      "5              J-K     0.126228\n",
      "2   GAIA_G-GAIA_RP     0.072203\n",
      "1   GAIA_G-GAIA_BP     0.064939\n",
      "3  GAIA_BP-GAIA_RP     0.062546\n",
      "4              J-H     0.057147\n"
     ]
    }
   ],
   "source": [
    "n_estimators = 100\n",
    "model_rf_enn = RandomForestClassifier(n_estimators=n_estimators, random_state=42)\n",
    "model_rf_enn.fit(X_resampled_enn, y_resampled_enn)\n",
    "\n",
    "y_pred_rf_enn = model_rf_enn.predict(X_test)\n",
    "\n",
    "# Evaluar el modelo\n",
    "print(\"Resultados usando Random Forest con SMOTE-ENN:\")\n",
    "print(f\"Accuracy: {accuracy_score(y_test, y_pred_rf_enn)}\")\n",
    "print(classification_report(y_test, y_pred_rf_enn))\n",
    "dump(model_rf_enn, f'modelos/rf_enn_{n_estimators}.joblib')\n",
    "\n",
    "# Guardar el reporte en un archivo de texto\n",
    "with open(f'graficos/RandomForest/SMOTE_ENN/reporte_rf_enn_{n_estimators}_estimators.txt', 'w') as f:\n",
    "    f.write(\"Resultados usando Random Forest con SMOTE-ENN:\\n\")\n",
    "    f.write(f\"Accuracy: {accuracy_score(y_test, y_pred_rf_enn)}\\n\")\n",
    "    f.write(\"\\nReporte de clasificacion:\\n\")\n",
    "    f.write(classification_report(y_test, y_pred_rf_enn))\n",
    "\n",
    "# Matriz de confusión\n",
    "cm_rf_enn = confusion_matrix(y_test, y_pred_rf_enn)\n",
    "print(\"Matriz de Confusión:\")\n",
    "print(cm_rf_enn)\n",
    "\n",
    "plt.figure(figsize=(8,6))\n",
    "sns.heatmap(cm_rf_enn, annot=True, fmt='d', cmap='Blues')\n",
    "plt.title('Matriz de Confusión - Random Forest con SMOTE-ENN')\n",
    "plt.ylabel('Etiqueta Verdadera')\n",
    "plt.xlabel('Etiqueta Predicha')\n",
    "plt.savefig(f'graficos/RandomForest/SMOTE_ENN/matriz_confusion_rf_enn_{n_estimators}_estimators.png')\n",
    "plt.close()\n",
    "\n",
    "\n",
    "# Graficar la curva ROC\n",
    "\n",
    "y_pred_proba_rf = model_rf_enn.predict_proba(X_test)[:,1]\n",
    "fpr_rf, tpr_rf, _ = roc_curve(y_test, y_pred_proba_rf)\n",
    "roc_auc_rf = auc(fpr_rf, tpr_rf)\n",
    "\n",
    "plt.figure(figsize=(8,6))\n",
    "plt.plot(fpr_rf, tpr_rf, label=f'Curva ROC (área = {roc_auc_rf:.2f})')\n",
    "plt.plot([0, 1], [0, 1],'r--')\n",
    "plt.xlim([-0.01, 1.01])\n",
    "plt.ylim([-0.01, 1.01])\n",
    "plt.xlabel('Tasa de Falsos Positivos')\n",
    "plt.ylabel('Tasa de Verdaderos Positivos')\n",
    "plt.title('Curva ROC - Random Forest con SMOTE-ENN')\n",
    "plt.legend(loc=\"lower right\")\n",
    "plt.savefig(f'graficos/RandomForest/SMOTE_ENN/roc_curve_rf_enn_{n_estimators}_estimators.png')\n",
    "plt.close()\n",
    "\n",
    "#Importancias\n",
    "importances_rf = model_rf_enn.feature_importances_\n",
    "feature_importance_rf_df = pd.DataFrame({\n",
    "    'Característica': X_train.columns,\n",
    "    'Importancia': importances_rf\n",
    "})\n",
    "feature_importance_rf_df = feature_importance_rf_df.sort_values(by='Importancia', ascending=False)\n",
    "\n",
    "# Mostrar las primeras características más importantes\n",
    "print(\"Características más importantes para la clasificación con Random Forest:\")\n",
    "print(feature_importance_rf_df.head(10))\n",
    "\n",
    "plt.figure(figsize=(10,8))\n",
    "sns.barplot(x='Importancia', y='Característica', data=feature_importance_rf_df.head(20))\n",
    "plt.title('Importancia de las Características - Random Forest con SMOTE-ENN')\n",
    "plt.tight_layout()\n",
    "plt.savefig(f'graficos/RandomForest/SMOTE_ENN/feature_importances_rf_enn_{n_estimators}_estimators.png')\n",
    "plt.close()"
   ]
  },
  {
   "cell_type": "code",
   "execution_count": null,
   "id": "40f56475-23bf-4fae-a941-0b32020e6141",
   "metadata": {},
   "outputs": [],
   "source": []
  },
  {
   "cell_type": "markdown",
   "id": "25060bff-f6bc-42be-9009-8479f451344e",
   "metadata": {},
   "source": [
    "# SMOTE-TOMEK"
   ]
  },
  {
   "cell_type": "code",
   "execution_count": 94,
   "id": "483f4585-4184-427a-b359-f6510a16f0ac",
   "metadata": {},
   "outputs": [
    {
     "name": "stdout",
     "output_type": "stream",
     "text": [
      "(3092, 7) (3092,)\n",
      "Antes de SMOTE_enn: class\n",
      "0    1600\n",
      "1     266\n",
      "Name: count, dtype: int64\n",
      "Después de SMOTE_enn: class\n",
      "1    1569\n",
      "0    1523\n",
      "Name: count, dtype: int64\n"
     ]
    }
   ],
   "source": [
    "smote_tomek = SMOTETomek(random_state=42)\n",
    "X_resampled_tomek, y_resampled_tomek = smote_tomek.fit_resample(X_train, y_train)\n",
    "\n",
    "print(X_resampled_enn.shape, y_resampled_enn.shape)\n",
    "print(f\"Antes de SMOTE_enn: {y_train.value_counts()}\")\n",
    "print(f\"Después de SMOTE_enn: {y_resampled_enn.value_counts()}\")"
   ]
  },
  {
   "cell_type": "code",
   "execution_count": 127,
   "id": "fd93704f-8712-43a7-88ce-65aa56ba3110",
   "metadata": {},
   "outputs": [
    {
     "name": "stdout",
     "output_type": "stream",
     "text": [
      "Resultados usando SMOTE-Tomek:\n",
      "Accuracy: 0.9678800856531049\n",
      "              precision    recall  f1-score   support\n",
      "\n",
      "           0       0.99      0.97      0.98       400\n",
      "           1       0.84      0.96      0.90        67\n",
      "\n",
      "    accuracy                           0.97       467\n",
      "   macro avg       0.92      0.96      0.94       467\n",
      "weighted avg       0.97      0.97      0.97       467\n",
      "\n"
     ]
    }
   ],
   "source": [
    "n_estimators=100\n",
    "model_tomek = XGBClassifier(eval_metric='mlogloss', learning_rate='0.1', objective='binary:logistic', n_estimators=n_estimators, random_state=42)\n",
    "model_tomek.fit(X_resampled_tomek, y_resampled_tomek)\n",
    "\n",
    "y_pred_tomek = model_tomek.predict(X_test)\n",
    "\n",
    "print(\"Resultados usando SMOTE-Tomek:\")\n",
    "print(f\"Accuracy: {accuracy_score(y_test, y_pred_tomek)}\")\n",
    "print(classification_report(y_test, y_pred_tomek))\n",
    "dump(model_tomek, f'modelos/xg_tomek_{n_estimators}.joblib')\n",
    "\n",
    "\n",
    "with open(f'graficos/XGBOOST/SMOTE_TOMEK/reporte_tomek_{n_estimators}_estimators.txt', 'w') as f:\n",
    "    f.write(\"Resultados usando SMOTE-Tomek:\\n\")\n",
    "    f.write(f\"Accuracy: {accuracy_score(y_test, y_pred_tomek)}\\n\")\n",
    "    f.write(\"\\nReporte de clasificacion:\\n\")\n",
    "    f.write(classification_report(y_test, y_pred_tomek))"
   ]
  },
  {
   "cell_type": "code",
   "execution_count": 96,
   "id": "9c056de0-1fa6-4ec9-bef5-fb082f98d206",
   "metadata": {},
   "outputs": [
    {
     "name": "stdout",
     "output_type": "stream",
     "text": [
      "Matriz de Confusión:\n",
      "[[388  12]\n",
      " [  3  64]]\n"
     ]
    }
   ],
   "source": [
    "cm = confusion_matrix(y_test, y_pred_tomek)\n",
    "print(\"Matriz de Confusión:\")\n",
    "print(cm)\n",
    "\n",
    "# Graficar la matriz de confusión\n",
    "plt.figure(figsize=(8,6))\n",
    "sns.heatmap(cm, annot=True, fmt='d', cmap='Blues')\n",
    "plt.title('Matriz de Confusión - SMOTE-TOMEK')\n",
    "plt.ylabel('Etiqueta Verdadera')\n",
    "plt.xlabel('Etiqueta Predicha')\n",
    "plt.savefig(f'graficos/XGBOOST/SMOTE_TOMEK/matriz_confusion_tomek_{n_estimators}_estimators.png')\n",
    "plt.close()"
   ]
  },
  {
   "cell_type": "code",
   "execution_count": 97,
   "id": "4eccf0f2-b4dd-48c9-a238-b1c499536b37",
   "metadata": {},
   "outputs": [],
   "source": [
    "y_pred_proba = model_tomek.predict_proba(X_test)[::,1]\n",
    "fpr, tpr, _ = roc_curve(y_test, y_pred_proba)\n",
    "roc_auc = auc(fpr, tpr)\n",
    "\n",
    "# Graficar la curva ROC\n",
    "plt.figure(figsize=(8,6))\n",
    "plt.plot(fpr, tpr, label=f'Curva ROC (área = {roc_auc:.2f})')\n",
    "plt.plot([0, 1], [0, 1],'r--')\n",
    "plt.xlim([-0.01, 1.01])\n",
    "plt.ylim([-0.01, 1.01])\n",
    "plt.xlabel('Tasa de Falsos Positivos')\n",
    "plt.ylabel('Tasa de Verdaderos Positivos')\n",
    "plt.title('Curva ROC - SMOTE-TOMEK')\n",
    "plt.legend(loc=\"lower right\")\n",
    "plt.savefig(f'graficos/XGBOOST/SMOTE_TOMEK/roc_curve_tomek_{n_estimators}_estimators.png')\n",
    "plt.close()"
   ]
  },
  {
   "cell_type": "code",
   "execution_count": 108,
   "id": "111b95dc-757a-4e20-88dd-c0dc430c1a89",
   "metadata": {},
   "outputs": [
    {
     "name": "stdout",
     "output_type": "stream",
     "text": [
      "Características más importantes para la clasificación:\n",
      "    Característica  Importancia\n",
      "6              H-K     0.646259\n",
      "4              J-H     0.118932\n",
      "1   GAIA_G-GAIA_BP     0.068976\n",
      "0         parallax     0.051803\n",
      "3  GAIA_BP-GAIA_RP     0.046551\n",
      "2   GAIA_G-GAIA_RP     0.035682\n",
      "5              J-K     0.031796\n"
     ]
    }
   ],
   "source": [
    "importances = model_tomek.feature_importances_\n",
    "feature_importance_df = pd.DataFrame({\n",
    "    'Característica': X_train.columns,\n",
    "    'Importancia': importances\n",
    "})\n",
    "feature_importance_df = feature_importance_df.sort_values(by='Importancia', ascending=False)\n",
    "print(\"Características más importantes para la clasificación:\")\n",
    "print(feature_importance_df.head(10))\n",
    "\n",
    "plt.figure(figsize=(10,8))\n",
    "plt.barh(feature_importance_df['Característica'], feature_importance_df['Importancia'])\n",
    "plt.gca().invert_yaxis()  \n",
    "plt.xlabel('Importancia')\n",
    "plt.title('Importancia de las Características - SMOTE-TOMEK')\n",
    "plt.tight_layout()\n",
    "plt.savefig(f'graficos/XGBOOST/SMOTE_TOMEK/feature_importances_TOMEK_{n_estimators}_estimators.png')\n",
    "plt.close()"
   ]
  },
  {
   "cell_type": "markdown",
   "id": "c29f174b-00cf-4c7a-991f-db79fb1e27a9",
   "metadata": {},
   "source": [
    "### RANDOM FOREST TOMEK"
   ]
  },
  {
   "cell_type": "code",
   "execution_count": 128,
   "id": "18deb596-48b4-41e9-9d2e-2a6427b31e51",
   "metadata": {},
   "outputs": [
    {
     "name": "stdout",
     "output_type": "stream",
     "text": [
      "Resultados usando Random Forest con SMOTE-Tomek:\n",
      "Accuracy: 0.961456102783726\n",
      "              precision    recall  f1-score   support\n",
      "\n",
      "           0       0.99      0.97      0.98       400\n",
      "           1       0.83      0.93      0.87        67\n",
      "\n",
      "    accuracy                           0.96       467\n",
      "   macro avg       0.91      0.95      0.93       467\n",
      "weighted avg       0.96      0.96      0.96       467\n",
      "\n",
      "Matriz de Confusión:\n",
      "[[387  13]\n",
      " [  5  62]]\n",
      "Características más importantes para la clasificación con Random Forest:\n",
      "    Característica  Importancia\n",
      "6              H-K     0.477366\n",
      "0         parallax     0.134941\n",
      "5              J-K     0.117670\n",
      "2   GAIA_G-GAIA_RP     0.070182\n",
      "4              J-H     0.070143\n",
      "1   GAIA_G-GAIA_BP     0.066951\n",
      "3  GAIA_BP-GAIA_RP     0.062747\n"
     ]
    }
   ],
   "source": [
    "n_estimators = 100\n",
    "model_rf_tomek = RandomForestClassifier(n_estimators=n_estimators, random_state=42)\n",
    "model_rf_tomek.fit(X_resampled_tomek, y_resampled_tomek)\n",
    "\n",
    "y_pred_rf_tomek = model_rf_tomek.predict(X_test)\n",
    "\n",
    "# Evaluar el modelo\n",
    "print(\"Resultados usando Random Forest con SMOTE-Tomek:\")\n",
    "print(f\"Accuracy: {accuracy_score(y_test, y_pred_rf_tomek)}\")\n",
    "print(classification_report(y_test, y_pred_rf_tomek))\n",
    "dump(model_rf_tomek, f'modelos/rf_tomek_{n_estimators}.joblib')\n",
    "\n",
    "# Guardar el reporte en un archivo de texto\n",
    "with open(f'graficos/RandomForest/SMOTE_TOMEK/reporte_rf_tomek_{n_estimators}_estimators.txt', 'w') as f:\n",
    "    f.write(\"Resultados usando Random Forest con SMOTE-Tomek:\\n\")\n",
    "    f.write(f\"Accuracy: {accuracy_score(y_test, y_pred_rf_tomek)}\\n\")\n",
    "    f.write(\"\\nReporte de clasificacion:\\n\")\n",
    "    f.write(classification_report(y_test, y_pred_rf_tomek))\n",
    "\n",
    "# Matriz de confusión\n",
    "cm_rf_tomek = confusion_matrix(y_test, y_pred_rf_tomek)\n",
    "print(\"Matriz de Confusión:\")\n",
    "print(cm_rf_tomek)\n",
    "\n",
    "plt.figure(figsize=(8,6))\n",
    "sns.heatmap(cm_rf_tomek, annot=True, fmt='d', cmap='Blues')\n",
    "plt.title('Matriz de Confusión - Random Forest con SMOTE-Tomek')\n",
    "plt.ylabel('Etiqueta Verdadera')\n",
    "plt.xlabel('Etiqueta Predicha')\n",
    "plt.savefig(f'graficos/RandomForest/SMOTE_TOMEK/matriz_confusion_rf_tomek_{n_estimators}_estimators.png')\n",
    "plt.close()\n",
    "\n",
    "\n",
    "# Graficar la curva ROC\n",
    "\n",
    "y_pred_proba_rf = model_rf_tomek.predict_proba(X_test)[:,1]\n",
    "fpr_rf, tpr_rf, _ = roc_curve(y_test, y_pred_proba_rf)\n",
    "roc_auc_rf = auc(fpr_rf, tpr_rf)\n",
    "\n",
    "plt.figure(figsize=(8,6))\n",
    "plt.plot(fpr_rf, tpr_rf, label=f'Curva ROC (área = {roc_auc_rf:.2f})')\n",
    "plt.plot([0, 1], [0, 1],'r--')\n",
    "plt.xlim([-0.01, 1.01])\n",
    "plt.ylim([-0.01, 1.01])\n",
    "plt.xlabel('Tasa de Falsos Positivos')\n",
    "plt.ylabel('Tasa de Verdaderos Positivos')\n",
    "plt.title('Curva ROC - Random Forest con SMOTE-Tomek')\n",
    "plt.legend(loc=\"lower right\")\n",
    "plt.savefig(f'graficos/RandomForest/SMOTE_TOMEK/roc_curve_rf_tomek_{n_estimators}_estimators.png')\n",
    "plt.close()\n",
    "\n",
    "#Importancias\n",
    "importances_rf = model_rf_tomek.feature_importances_\n",
    "feature_importance_rf_df = pd.DataFrame({\n",
    "    'Característica': X_train.columns,\n",
    "    'Importancia': importances_rf\n",
    "})\n",
    "feature_importance_rf_df = feature_importance_rf_df.sort_values(by='Importancia', ascending=False)\n",
    "\n",
    "# Mostrar las primeras características más importantes\n",
    "print(\"Características más importantes para la clasificación con Random Forest:\")\n",
    "print(feature_importance_rf_df.head(10))\n",
    "\n",
    "plt.figure(figsize=(10,8))\n",
    "sns.barplot(x='Importancia', y='Característica', data=feature_importance_rf_df.head(20))\n",
    "plt.title('Importancia de las Características - Random Forest con SMOTE-Tomek')\n",
    "plt.tight_layout()\n",
    "plt.savefig(f'graficos/RandomForest/SMOTE_TOMEK/feature_importances_rf_tomek_{n_estimators}_estimators.png')\n",
    "plt.close()\n"
   ]
  },
  {
   "cell_type": "markdown",
   "id": "4dadc35a-cdab-4b98-90d8-0d2aacc4fa7b",
   "metadata": {},
   "source": [
    "# SMOTE normal"
   ]
  },
  {
   "cell_type": "code",
   "execution_count": 98,
   "id": "74a4bcbf-1303-4e9a-9a10-1f5b439c4299",
   "metadata": {},
   "outputs": [
    {
     "name": "stdout",
     "output_type": "stream",
     "text": [
      "(3200, 7) (3200,)\n",
      "Antes de SMOTE: class\n",
      "0    1600\n",
      "1     266\n",
      "Name: count, dtype: int64\n",
      "Después de SMOTE: class\n",
      "1    1600\n",
      "0    1600\n",
      "Name: count, dtype: int64\n"
     ]
    }
   ],
   "source": [
    "smote = SMOTE(random_state=42)\n",
    "X_resampled_smt, y_resampled_smt = smote.fit_resample(X_train, y_train)\n",
    "\n",
    "print(X_resampled_smt.shape, y_resampled_smt.shape)\n",
    "print(f\"Antes de SMOTE: {y_train.value_counts()}\")\n",
    "print(f\"Después de SMOTE: {y_resampled_smt.value_counts()}\")"
   ]
  },
  {
   "cell_type": "code",
   "execution_count": 129,
   "id": "238ad2a2-3a00-4767-8e2d-ef64043563de",
   "metadata": {},
   "outputs": [
    {
     "name": "stdout",
     "output_type": "stream",
     "text": [
      "Resultados usando SMOTE:\n",
      "Accuracy: 0.9678800856531049\n",
      "              precision    recall  f1-score   support\n",
      "\n",
      "           0       0.99      0.97      0.98       400\n",
      "           1       0.84      0.96      0.90        67\n",
      "\n",
      "    accuracy                           0.97       467\n",
      "   macro avg       0.92      0.96      0.94       467\n",
      "weighted avg       0.97      0.97      0.97       467\n",
      "\n"
     ]
    }
   ],
   "source": [
    "n_estimators = 100\n",
    "model_smt = XGBClassifier(eval_metric='mlogloss', learning_rate='0.1', objective='binary:logistic', n_estimators=n_estimators, random_state=42)\n",
    "model_smt.fit(X_resampled_smt, y_resampled_smt)\n",
    "\n",
    "y_pred_smt = model_smt.predict(X_test)\n",
    "\n",
    "print(\"Resultados usando SMOTE:\")\n",
    "print(f\"Accuracy: {accuracy_score(y_test, y_pred_smt)}\")\n",
    "print(classification_report(y_test, y_pred_smt))\n",
    "dump(model_smt, f'modelos/xg_smt_{n_estimators}.joblib')\n",
    "\n",
    "with open(f'graficos/XGBOOST/SMOTE/reporte_{n_estimators}_estimators.txt', 'w') as f:\n",
    "    f.write(\"Resultados usando SMOTE:\\n\")\n",
    "    f.write(f\"Accuracy: {accuracy_score(y_test, y_pred_smt)}\\n\")\n",
    "    f.write(\"\\nReporte de clasificacion:\\n\")\n",
    "    f.write(classification_report(y_test, y_pred_smt))"
   ]
  },
  {
   "cell_type": "code",
   "execution_count": 100,
   "id": "fba3d750-882b-49ad-a994-7d8f2796bc8b",
   "metadata": {},
   "outputs": [
    {
     "name": "stdout",
     "output_type": "stream",
     "text": [
      "Matriz de Confusión:\n",
      "[[388  12]\n",
      " [  3  64]]\n"
     ]
    }
   ],
   "source": [
    "cm = confusion_matrix(y_test, y_pred_smt)\n",
    "print(\"Matriz de Confusión:\")\n",
    "print(cm)\n",
    "\n",
    "# Graficar la matriz de confusión\n",
    "plt.figure(figsize=(8,6))\n",
    "sns.heatmap(cm, annot=True, fmt='d', cmap='Blues')\n",
    "plt.title('Matriz de Confusión - SMOTE')\n",
    "plt.ylabel('Etiqueta Verdadera')\n",
    "plt.xlabel('Etiqueta Predicha')\n",
    "plt.savefig(f'graficos/XGBOOST/SMOTE/matriz_confusion_smt_{n_estimators}_estimators.png')\n",
    "plt.close()"
   ]
  },
  {
   "cell_type": "code",
   "execution_count": 101,
   "id": "1ce66773-8b00-4f58-ac5c-ac824364c9c8",
   "metadata": {},
   "outputs": [],
   "source": [
    "y_pred_proba = model_smt.predict_proba(X_test)[::,1]\n",
    "fpr, tpr, _ = roc_curve(y_test, y_pred_proba)\n",
    "roc_auc = auc(fpr, tpr)\n",
    "\n",
    "# Graficar la curva ROC\n",
    "plt.figure(figsize=(8,6))\n",
    "plt.plot(fpr, tpr, label=f'Curva ROC (área = {roc_auc:.2f})')\n",
    "plt.plot([0, 1], [0, 1],'r--')\n",
    "plt.xlim([-0.01, 1.01])\n",
    "plt.ylim([-0.01, 1.01])\n",
    "plt.xlabel('Tasa de Falsos Positivos')\n",
    "plt.ylabel('Tasa de Verdaderos Positivos')\n",
    "plt.title('Curva ROC - SMOTE-TOMEK')\n",
    "plt.legend(loc=\"lower right\")\n",
    "plt.savefig(f'graficos/XGBOOST/SMOTE/roc_curve_smt_{n_estimators}_estimators.png')\n",
    "plt.close()"
   ]
  },
  {
   "cell_type": "code",
   "execution_count": null,
   "id": "71161c0a-a180-460a-8871-bc9330231eea",
   "metadata": {},
   "outputs": [],
   "source": [
    "importances = model_tomek.feature_importances_\n",
    "feature_importance_df = pd.DataFrame({\n",
    "    'Característica': X_train.columns,\n",
    "    'Importancia': importances\n",
    "})\n",
    "feature_importance_df = feature_importance_df.sort_values(by='Importancia', ascending=False)\n",
    "print(\"Características más importantes para la clasificación:\")\n",
    "print(feature_importance_df.head(10))\n",
    "\n",
    "plt.figure(figsize=(10,8))\n",
    "plt.barh(feature_importance_df['Característica'], feature_importance_df['Importancia'])\n",
    "plt.gca().invert_yaxis()  \n",
    "plt.xlabel('Importancia')\n",
    "plt.title('Importancia de las Características - SMOTE-ENN')\n",
    "plt.tight_layout()\n",
    "plt.savefig(f'graficos/XGBOOST/SMOTE_TOMEK/feature_importances_enn_{n_estimators}_estimators.png')\n",
    "plt.close()"
   ]
  },
  {
   "cell_type": "code",
   "execution_count": 110,
   "id": "9b26627e-34c4-4bd5-8b47-d5c0fda85dd3",
   "metadata": {},
   "outputs": [
    {
     "name": "stdout",
     "output_type": "stream",
     "text": [
      "Características más importantes para la clasificación:\n",
      "    Característica  Importancia\n",
      "6              H-K     0.643806\n",
      "4              J-H     0.131588\n",
      "1   GAIA_G-GAIA_BP     0.070550\n",
      "0         parallax     0.047281\n",
      "3  GAIA_BP-GAIA_RP     0.045650\n",
      "2   GAIA_G-GAIA_RP     0.032490\n",
      "5              J-K     0.028635\n"
     ]
    }
   ],
   "source": [
    "importances = model_smt.feature_importances_\n",
    "feature_importance_df = pd.DataFrame({\n",
    "    'Característica': X_train.columns,\n",
    "    'Importancia': importances\n",
    "})\n",
    "feature_importance_df = feature_importance_df.sort_values(by='Importancia', ascending=False)\n",
    "print(\"Características más importantes para la clasificación:\")\n",
    "print(feature_importance_df.head(10))\n",
    "\n",
    "plt.figure(figsize=(10,8))\n",
    "plt.barh(feature_importance_df['Característica'], feature_importance_df['Importancia'])\n",
    "plt.gca().invert_yaxis()  \n",
    "plt.xlabel('Importancia')\n",
    "plt.title('Importancia de las Características - SMOTE')\n",
    "plt.tight_layout()\n",
    "plt.savefig(f'graficos/XGBOOST/SMOTE/feature_importances_smt_{n_estimators}_estimators.png')\n",
    "plt.close()"
   ]
  },
  {
   "cell_type": "markdown",
   "id": "f828120e-b2d0-4ac5-b6f3-a65912542cc0",
   "metadata": {},
   "source": [
    "### RANDOM FOREST SMOTE"
   ]
  },
  {
   "cell_type": "code",
   "execution_count": 130,
   "id": "320502c3-6b5e-42ad-aa33-97964aa78ccf",
   "metadata": {},
   "outputs": [
    {
     "name": "stdout",
     "output_type": "stream",
     "text": [
      "Resultados usando Random Forest con SMOTE:\n",
      "Accuracy: 0.9657387580299786\n",
      "              precision    recall  f1-score   support\n",
      "\n",
      "           0       0.99      0.97      0.98       400\n",
      "           1       0.84      0.94      0.89        67\n",
      "\n",
      "    accuracy                           0.97       467\n",
      "   macro avg       0.91      0.96      0.93       467\n",
      "weighted avg       0.97      0.97      0.97       467\n",
      "\n",
      "Matriz de Confusión:\n",
      "[[388  12]\n",
      " [  4  63]]\n",
      "Características más importantes para la clasificación con Random Forest:\n",
      "    Característica  Importancia\n",
      "6              H-K     0.473226\n",
      "0         parallax     0.138524\n",
      "5              J-K     0.120700\n",
      "4              J-H     0.069232\n",
      "1   GAIA_G-GAIA_BP     0.068039\n",
      "2   GAIA_G-GAIA_RP     0.067417\n",
      "3  GAIA_BP-GAIA_RP     0.062862\n"
     ]
    }
   ],
   "source": [
    "n_estimators = 100\n",
    "model_rf_smt = RandomForestClassifier(n_estimators=n_estimators, random_state=42)\n",
    "model_rf_smt.fit(X_resampled_smt, y_resampled_smt)\n",
    "\n",
    "y_pred_rf_smt = model_rf_smt.predict(X_test)\n",
    "\n",
    "# Evaluar el modelo\n",
    "print(\"Resultados usando Random Forest con SMOTE:\")\n",
    "print(f\"Accuracy: {accuracy_score(y_test, y_pred_rf_smt)}\")\n",
    "print(classification_report(y_test, y_pred_rf_smt))\n",
    "dump(model_rf_smt, f'modelos/rf_smt_{n_estimators}.joblib')\n",
    "# Guardar el reporte en un archivo de texto\n",
    "with open(f'graficos/RandomForest/SMOTE/reporte_rf_smt_{n_estimators}_estimators.txt', 'w') as f:\n",
    "    f.write(\"Resultados usando Random Forest con SMOTE:\\n\")\n",
    "    f.write(f\"Accuracy: {accuracy_score(y_test, y_pred_rf_smt)}\\n\")\n",
    "    f.write(\"\\nReporte de clasificacion:\\n\")\n",
    "    f.write(classification_report(y_test, y_pred_rf_smt))\n",
    "\n",
    "# Matriz de confusión\n",
    "cm_rf_smt = confusion_matrix(y_test, y_pred_rf_smt)\n",
    "print(\"Matriz de Confusión:\")\n",
    "print(cm_rf_smt)\n",
    "\n",
    "plt.figure(figsize=(8,6))\n",
    "sns.heatmap(cm_rf_smt, annot=True, fmt='d', cmap='Blues')\n",
    "plt.title('Matriz de Confusión - Random Forest con SMOTE')\n",
    "plt.ylabel('Etiqueta Verdadera')\n",
    "plt.xlabel('Etiqueta Predicha')\n",
    "plt.savefig(f'graficos/RandomForest/SMOTE/matriz_confusion_rf_smt_{n_estimators}_estimators.png')\n",
    "plt.close()\n",
    "\n",
    "\n",
    "# Graficar la curva ROC\n",
    "\n",
    "y_pred_proba_rf = model_rf_smt.predict_proba(X_test)[:,1]\n",
    "fpr_rf, tpr_rf, _ = roc_curve(y_test, y_pred_proba_rf)\n",
    "roc_auc_rf = auc(fpr_rf, tpr_rf)\n",
    "\n",
    "plt.figure(figsize=(8,6))\n",
    "plt.plot(fpr_rf, tpr_rf, label=f'Curva ROC (área = {roc_auc_rf:.2f})')\n",
    "plt.plot([0, 1], [0, 1],'r--')\n",
    "plt.xlim([-0.01, 1.01])\n",
    "plt.ylim([-0.01, 1.01])\n",
    "plt.xlabel('Tasa de Falsos Positivos')\n",
    "plt.ylabel('Tasa de Verdaderos Positivos')\n",
    "plt.title('Curva ROC - Random Forest con SMOTE')\n",
    "plt.legend(loc=\"lower right\")\n",
    "plt.savefig(f'graficos/RandomForest/SMOTE/roc_curve_rf_smt_{n_estimators}_estimators.png')\n",
    "plt.close()\n",
    "\n",
    "# Importancias\n",
    "importances_rf = model_rf_smt.feature_importances_\n",
    "feature_importance_rf_df = pd.DataFrame({\n",
    "    'Característica': X_train.columns,\n",
    "    'Importancia': importances_rf\n",
    "})\n",
    "feature_importance_rf_df = feature_importance_rf_df.sort_values(by='Importancia', ascending=False)\n",
    "\n",
    "# Mostrar las primeras características más importantes\n",
    "print(\"Características más importantes para la clasificación con Random Forest:\")\n",
    "print(feature_importance_rf_df.head(10))\n",
    "\n",
    "plt.figure(figsize=(10,8))\n",
    "sns.barplot(x='Importancia', y='Característica', data=feature_importance_rf_df.head(20))\n",
    "plt.title('Importancia de las Características - Random Forest con SMOTE')\n",
    "plt.tight_layout()\n",
    "plt.savefig(f'graficos/RandomForest/SMOTE/feature_importances_rf_smt_{n_estimators}_estimators.png')\n",
    "plt.close()"
   ]
  },
  {
   "cell_type": "code",
   "execution_count": null,
   "id": "13172a14-7a47-4f90-910f-2eb2a29b9a06",
   "metadata": {},
   "outputs": [],
   "source": []
  }
 ],
 "metadata": {
  "kernelspec": {
   "display_name": "Python 3 (ipykernel)",
   "language": "python",
   "name": "python3"
  },
  "language_info": {
   "codemirror_mode": {
    "name": "ipython",
    "version": 3
   },
   "file_extension": ".py",
   "mimetype": "text/x-python",
   "name": "python",
   "nbconvert_exporter": "python",
   "pygments_lexer": "ipython3",
   "version": "3.8.18"
  }
 },
 "nbformat": 4,
 "nbformat_minor": 5
}

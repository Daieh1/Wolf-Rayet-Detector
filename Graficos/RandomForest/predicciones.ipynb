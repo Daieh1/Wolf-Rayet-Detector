{
 "cells": [
  {
   "cell_type": "code",
   "execution_count": 1,
   "id": "717caf77-5b04-43bb-b5a9-835b19646b47",
   "metadata": {},
   "outputs": [],
   "source": [
    "import pandas as pd\n",
    "import matplotlib.pyplot as plt\n",
    "import seaborn as sns\n",
    "from joblib import load"
   ]
  },
  {
   "cell_type": "code",
   "execution_count": 26,
   "id": "44f0a840-7f36-43d0-b95c-c62b8e5eeaff",
   "metadata": {},
   "outputs": [
    {
     "name": "stderr",
     "output_type": "stream",
     "text": [
      "C:\\Users\\diego\\AppData\\Local\\Temp\\ipykernel_29120\\832590129.py:7: DtypeWarning: Columns (189) have mixed types. Specify dtype option on import or set low_memory=False.\n",
      "  muestra = pd.read_csv('archivos/estrellas aleatorias por colores/muestra_con_simbad.csv')\n"
     ]
    }
   ],
   "source": [
    "xg_enn = load('modelos/xg_enn_100.joblib')\n",
    "xg_tomek = load('modelos/xg_tomek_100.joblib')\n",
    "xg_smt = load('modelos/xg_smt_100.joblib')\n",
    "rf_enn = load('modelos/rf_enn_100.joblib')\n",
    "rf_tomek = load('modelos/rf_tomek_100.joblib')\n",
    "rf_smt = load('modelos/rf_smt_100.joblib')\n",
    "muestra = pd.read_csv('archivos/estrellas aleatorias por colores/muestra_con_simbad.csv')\n",
    "muestra_filtrada =  muestra[ muestra['otype'] == '   *']"
   ]
  },
  {
   "cell_type": "code",
   "execution_count": 27,
   "id": "324fac1b-0634-4aa2-b788-876a2b221d27",
   "metadata": {},
   "outputs": [
    {
     "name": "stdout",
     "output_type": "stream",
     "text": [
      "['Unnamed: 0', 'source_id', 'solution_id', 'designation', 'source_id.1', 'random_index', 'ref_epoch', 'ra', 'ra_error', 'dec', 'dec_error', 'parallax', 'parallax_error', 'parallax_over_error', 'pm', 'pmra', 'pmra_error', 'pmdec', 'pmdec_error', 'ra_dec_corr', 'ra_parallax_corr', 'ra_pmra_corr', 'ra_pmdec_corr', 'dec_parallax_corr', 'dec_pmra_corr', 'dec_pmdec_corr', 'parallax_pmra_corr', 'parallax_pmdec_corr', 'pmra_pmdec_corr', 'astrometric_n_obs_al', 'astrometric_n_obs_ac', 'astrometric_n_good_obs_al', 'astrometric_n_bad_obs_al', 'astrometric_gof_al', 'astrometric_chi2_al', 'astrometric_excess_noise', 'astrometric_excess_noise_sig', 'astrometric_params_solved', 'astrometric_primary_flag', 'nu_eff_used_in_astrometry', 'pseudocolour', 'pseudocolour_error', 'ra_pseudocolour_corr', 'dec_pseudocolour_corr', 'parallax_pseudocolour_corr', 'pmra_pseudocolour_corr', 'pmdec_pseudocolour_corr', 'astrometric_matched_transits', 'visibility_periods_used', 'astrometric_sigma5d_max', 'matched_transits', 'new_matched_transits', 'matched_transits_removed', 'ipd_gof_harmonic_amplitude', 'ipd_gof_harmonic_phase', 'ipd_frac_multi_peak', 'ipd_frac_odd_win', 'ruwe', 'scan_direction_strength_k1', 'scan_direction_strength_k2', 'scan_direction_strength_k3', 'scan_direction_strength_k4', 'scan_direction_mean_k1', 'scan_direction_mean_k2', 'scan_direction_mean_k3', 'scan_direction_mean_k4', 'duplicated_source', 'phot_g_n_obs', 'phot_g_mean_flux', 'phot_g_mean_flux_error', 'phot_g_mean_flux_over_error', 'GAIA_G', 'phot_bp_n_obs', 'phot_bp_mean_flux', 'phot_bp_mean_flux_error', 'phot_bp_mean_flux_over_error', 'GAIA_BP', 'phot_rp_n_obs', 'phot_rp_mean_flux', 'phot_rp_mean_flux_error', 'phot_rp_mean_flux_over_error', 'GAIA_RP', 'phot_bp_rp_excess_factor', 'phot_bp_n_contaminated_transits', 'phot_bp_n_blended_transits', 'phot_rp_n_contaminated_transits', 'phot_rp_n_blended_transits', 'phot_proc_mode', 'bp_rp', 'bp_g', 'g_rp', 'radial_velocity', 'radial_velocity_error', 'rv_method_used', 'rv_nb_transits', 'rv_nb_deblended_transits', 'rv_visibility_periods_used', 'rv_expected_sig_to_noise', 'rv_renormalised_gof', 'rv_chisq_pvalue', 'rv_time_duration', 'rv_amplitude_robust', 'rv_template_teff', 'rv_template_logg', 'rv_template_fe_h', 'rv_atm_param_origin', 'vbroad', 'vbroad_error', 'vbroad_nb_transits', 'grvs_mag', 'grvs_mag_error', 'grvs_mag_nb_transits', 'rvs_spec_sig_to_noise', 'phot_variable_flag', 'l', 'b', 'ecl_lon', 'ecl_lat', 'in_qso_candidates', 'in_galaxy_candidates', 'non_single_star', 'has_xp_continuous', 'has_xp_sampled', 'has_rvs', 'has_epoch_photometry', 'has_epoch_rv', 'has_mcmc_gspphot', 'has_mcmc_msc', 'in_andromeda_survey', 'classprob_dsc_combmod_quasar', 'classprob_dsc_combmod_galaxy', 'classprob_dsc_combmod_star', 'teff_gspphot', 'teff_gspphot_lower', 'teff_gspphot_upper', 'logg_gspphot', 'logg_gspphot_lower', 'logg_gspphot_upper', 'mh_gspphot', 'mh_gspphot_lower', 'mh_gspphot_upper', 'distance_gspphot', 'distance_gspphot_lower', 'distance_gspphot_upper', 'azero_gspphot', 'azero_gspphot_lower', 'azero_gspphot_upper', 'ag_gspphot', 'ag_gspphot_lower', 'ag_gspphot_upper', 'ebpminrp_gspphot', 'ebpminrp_gspphot_lower', 'ebpminrp_gspphot_upper', 'libname_gspphot', 'ph_qual', 'tmass_oid', 'designation.1', 'ra.1', 'dec.1', 'err_maj', 'err_min', 'err_ang', 'J', 'j_msigcom', 'H', 'h_msigcom', 'K', 'ks_msigcom', 'ext_key', 'j_date', 'main_id', 'ra_x', 'dec_x', 'coo_err_maj', 'coo_err_min', 'coo_err_angle', 'otype', 'nbref', 'ra_sexa', 'dec_sexa', 'coo_qual', 'coo_bibcode', 'main_type', 'other_types', 'radvel', 'radvel_err', 'redshift', 'redshift_err', 'sp_type', 'morph_type', 'plx', 'plx_err', 'pmra_x', 'pmdec_x', 'pm_err_maj', 'pm_err_min', 'pm_err_pa', 'size_maj', 'size_min', 'size_angle', 'B_x', 'V', 'R_x', 'J_x', 'H_x', 'K_x', 'u', 'g', 'r_xa', 'i', 'z', 'angDist']\n"
     ]
    },
    {
     "data": {
      "text/plain": [
       "(149955, 212)"
      ]
     },
     "execution_count": 27,
     "metadata": {},
     "output_type": "execute_result"
    }
   ],
   "source": [
    "print(list(muestra_filtrada.columns))\n",
    "muestra_filtrada.shape"
   ]
  },
  {
   "cell_type": "code",
   "execution_count": 28,
   "id": "b3a551af-f3c2-4401-b449-a7886a3bd443",
   "metadata": {},
   "outputs": [
    {
     "name": "stderr",
     "output_type": "stream",
     "text": [
      "C:\\Users\\diego\\AppData\\Local\\Temp\\ipykernel_29120\\3700395615.py:1: SettingWithCopyWarning: \n",
      "A value is trying to be set on a copy of a slice from a DataFrame.\n",
      "Try using .loc[row_indexer,col_indexer] = value instead\n",
      "\n",
      "See the caveats in the documentation: https://pandas.pydata.org/pandas-docs/stable/user_guide/indexing.html#returning-a-view-versus-a-copy\n",
      "  muestra_filtrada['GAIA_G-GAIA_BP'] = muestra_filtrada['GAIA_G'] - muestra_filtrada['GAIA_BP']\n",
      "C:\\Users\\diego\\AppData\\Local\\Temp\\ipykernel_29120\\3700395615.py:2: SettingWithCopyWarning: \n",
      "A value is trying to be set on a copy of a slice from a DataFrame.\n",
      "Try using .loc[row_indexer,col_indexer] = value instead\n",
      "\n",
      "See the caveats in the documentation: https://pandas.pydata.org/pandas-docs/stable/user_guide/indexing.html#returning-a-view-versus-a-copy\n",
      "  muestra_filtrada['GAIA_G-GAIA_RP'] = muestra_filtrada['GAIA_G'] - muestra_filtrada['GAIA_RP']\n",
      "C:\\Users\\diego\\AppData\\Local\\Temp\\ipykernel_29120\\3700395615.py:3: SettingWithCopyWarning: \n",
      "A value is trying to be set on a copy of a slice from a DataFrame.\n",
      "Try using .loc[row_indexer,col_indexer] = value instead\n",
      "\n",
      "See the caveats in the documentation: https://pandas.pydata.org/pandas-docs/stable/user_guide/indexing.html#returning-a-view-versus-a-copy\n",
      "  muestra_filtrada['GAIA_BP-GAIA_RP'] = muestra_filtrada['GAIA_BP'] - muestra_filtrada['GAIA_RP']\n",
      "C:\\Users\\diego\\AppData\\Local\\Temp\\ipykernel_29120\\3700395615.py:4: SettingWithCopyWarning: \n",
      "A value is trying to be set on a copy of a slice from a DataFrame.\n",
      "Try using .loc[row_indexer,col_indexer] = value instead\n",
      "\n",
      "See the caveats in the documentation: https://pandas.pydata.org/pandas-docs/stable/user_guide/indexing.html#returning-a-view-versus-a-copy\n",
      "  muestra_filtrada['J-H'] = muestra_filtrada['J'] - muestra_filtrada['H']\n",
      "C:\\Users\\diego\\AppData\\Local\\Temp\\ipykernel_29120\\3700395615.py:5: SettingWithCopyWarning: \n",
      "A value is trying to be set on a copy of a slice from a DataFrame.\n",
      "Try using .loc[row_indexer,col_indexer] = value instead\n",
      "\n",
      "See the caveats in the documentation: https://pandas.pydata.org/pandas-docs/stable/user_guide/indexing.html#returning-a-view-versus-a-copy\n",
      "  muestra_filtrada['J-K'] = muestra_filtrada['J'] - muestra_filtrada['K']\n",
      "C:\\Users\\diego\\AppData\\Local\\Temp\\ipykernel_29120\\3700395615.py:6: SettingWithCopyWarning: \n",
      "A value is trying to be set on a copy of a slice from a DataFrame.\n",
      "Try using .loc[row_indexer,col_indexer] = value instead\n",
      "\n",
      "See the caveats in the documentation: https://pandas.pydata.org/pandas-docs/stable/user_guide/indexing.html#returning-a-view-versus-a-copy\n",
      "  muestra_filtrada['H-K'] = muestra_filtrada['H'] - muestra_filtrada['K']\n"
     ]
    }
   ],
   "source": [
    "muestra_filtrada['GAIA_G-GAIA_BP'] = muestra_filtrada['GAIA_G'] - muestra_filtrada['GAIA_BP']\n",
    "muestra_filtrada['GAIA_G-GAIA_RP'] = muestra_filtrada['GAIA_G'] - muestra_filtrada['GAIA_RP']\n",
    "muestra_filtrada['GAIA_BP-GAIA_RP'] = muestra_filtrada['GAIA_BP'] - muestra_filtrada['GAIA_RP']\n",
    "muestra_filtrada['J-H'] = muestra_filtrada['J'] - muestra_filtrada['H']\n",
    "muestra_filtrada['J-K'] = muestra_filtrada['J'] - muestra_filtrada['K']\n",
    "muestra_filtrada['H-K'] = muestra_filtrada['H'] - muestra_filtrada['K']"
   ]
  },
  {
   "cell_type": "code",
   "execution_count": 29,
   "id": "467a21d2-2281-49b4-8982-eedb3323a473",
   "metadata": {},
   "outputs": [],
   "source": [
    "columnas = ['parallax', 'GAIA_G-GAIA_BP', 'GAIA_G-GAIA_RP', 'GAIA_BP-GAIA_RP', 'J-H', 'J-K', 'H-K']\n",
    "muestra_filtrada_colores = muestra_filtrada[columnas]"
   ]
  },
  {
   "cell_type": "code",
   "execution_count": 37,
   "id": "db66262d-03a9-4e57-8272-44bf03fa4dab",
   "metadata": {},
   "outputs": [
    {
     "name": "stdout",
     "output_type": "stream",
     "text": [
      "                  source_id  ponderacion\n",
      "35108   3352737959020047360     0.997329\n",
      "189254  5350349479166230144     0.996353\n",
      "196299  5258613307042931968     0.995904\n",
      "45418   4050252261569856896     0.993503\n",
      "90502   3107767215029913088     0.993182\n"
     ]
    },
    {
     "data": {
      "text/plain": [
       "(270, 2)"
      ]
     },
     "execution_count": 37,
     "metadata": {},
     "output_type": "execute_result"
    }
   ],
   "source": [
    "prob_enn = xg_enn.predict_proba(muestra_filtrada_colores)[:, 1]\n",
    "prob_tomek = xg_tomek.predict_proba(muestra_filtrada_colores)[:, 1]\n",
    "prob_smt = xg_smt.predict_proba(muestra_filtrada_colores)[:, 1]\n",
    "rf_prob_enn = rf_enn.predict_proba(muestra_filtrada_colores)[:, 1]\n",
    "rf_prob_tomek = rf_tomek.predict_proba(muestra_filtrada_colores)[:, 1]\n",
    "rf_prob_smt = rf_smt.predict_proba(muestra_filtrada_colores)[:, 1]\n",
    "\n",
    "ponderacion = (prob_enn + prob_tomek + prob_smt + rf_prob_enn + rf_prob_tomek + rf_prob_smt) / 6\n",
    "\n",
    "# Filtrar las filas con ponderación mayor o igual a 0.5\n",
    "filtrado = ponderacion >= 0.85\n",
    "\n",
    "# Crear un nuevo DataFrame con 'source_id' y las ponderaciones\n",
    "resultado = pd.DataFrame({\n",
    "    'source_id': muestra_filtrada['source_id'],  # Tomar el 'source_id' de muestra_filtrada original\n",
    "    'ponderacion': ponderacion\n",
    "})\n",
    "\n",
    "# Filtrar los resultados donde la ponderación sea >= 0.5\n",
    "resultado_filtrado = resultado[filtrado]\n",
    "resultado_ordenado = resultado_filtrado.sort_values(by='ponderacion', ascending=False)\n",
    "\n",
    "print(resultado_ordenado.head())\n",
    "resultado_ordenado.to_csv('archivos/datos finales/predicciones_filtradas.csv', index=False)\n",
    "resultado_ordenado.shape"
   ]
  },
  {
   "cell_type": "code",
   "execution_count": null,
   "id": "b47e7530-fd19-4b18-acad-320acd2203e4",
   "metadata": {},
   "outputs": [],
   "source": []
  }
 ],
 "metadata": {
  "kernelspec": {
   "display_name": "Python 3 (ipykernel)",
   "language": "python",
   "name": "python3"
  },
  "language_info": {
   "codemirror_mode": {
    "name": "ipython",
    "version": 3
   },
   "file_extension": ".py",
   "mimetype": "text/x-python",
   "name": "python",
   "nbconvert_exporter": "python",
   "pygments_lexer": "ipython3",
   "version": "3.8.18"
  }
 },
 "nbformat": 4,
 "nbformat_minor": 5
}
